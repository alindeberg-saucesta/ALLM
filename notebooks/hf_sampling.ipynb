{
 "cells": [
  {
   "cell_type": "code",
   "execution_count": 1,
   "metadata": {},
   "outputs": [],
   "source": [
    "import sys\n",
    "import os\n",
    "parent_directory = os.path.dirname(os.getcwd())\n",
    "sys.path.append(parent_directory)"
   ]
  },
  {
   "cell_type": "code",
   "execution_count": 3,
   "metadata": {},
   "outputs": [],
   "source": [
    "from dataclasses import fields\n",
    "from src.params import TParams\n",
    "from src.utils.handle_ddp import DDPHandler\n",
    "from src.model_assessment.hf_sampling import get_hf_model, hf_sample"
   ]
  },
  {
   "cell_type": "code",
   "execution_count": 4,
   "metadata": {},
   "outputs": [],
   "source": [
    "import logging\n",
    "log = logging.getLogger(\"\")\n",
    "logging.basicConfig(level=logging.INFO)"
   ]
  },
  {
   "cell_type": "markdown",
   "metadata": {},
   "source": [
    "### How to sample pretrained LF_LLM-269M\n",
    "To download the model and load it into memory run:\n",
    "\n",
    "```python\n",
    "ddp = DDPHandler()\n",
    "model = get_hf_model(ddp)\n",
    "```\n",
    "\n",
    "To run sampling, use the following:\n",
    "\n",
    "```python\n",
    "tParams = TParams(**{f.name: None for f in fields(TParams)})\n",
    "tParams.sampling_top_k = 50  # Leave this at 50, unless experimenting\n",
    "tParams.sampling_tokens = 40  # Number of tokens to create\n",
    "tParams.sampling_batch = 2  # Number of generated outputs to create\n",
    "\n",
    "hf_sample(model, ddp, tParams, \"Let's talk about Rome, Rome is\")\n",
    "```"
   ]
  },
  {
   "cell_type": "code",
   "execution_count": 5,
   "metadata": {},
   "outputs": [
    {
     "name": "stderr",
     "output_type": "stream",
     "text": [
      "INFO:src.utils.handle_ddp:Launching worker with config: \n",
      "local_rank: 0 | world_size: 1 | is_main: True \n",
      "assigned_device: cuda | device_type: cuda.\n",
      "INFO:src.utils.root:Creating dir: /home/MyLLM/temp_data/hf_model\n"
     ]
    },
    {
     "data": {
      "application/vnd.jupyter.widget-view+json": {
       "model_id": "7059d50edf514453b9ce3c8a56cee21c",
       "version_major": 2,
       "version_minor": 0
      },
      "text/plain": [
       "pytorch_model.pth:   0%|          | 0.00/3.84G [00:00<?, ?B/s]"
      ]
     },
     "metadata": {},
     "output_type": "display_data"
    },
    {
     "name": "stderr",
     "output_type": "stream",
     "text": [
      "INFO:src.model_assessment.hf_sampling:Model downloaded to: /home/MyLLM/temp_data/hf_model/models--LF-Luis--LF_LLM-269M/snapshots/b6f4b2d9ab4f344a8dc7f72731c62c030e3b52eb/pytorch_model.pth\n",
      "INFO:src.rope:cos_cache and sin_cache have been previously created, skipping creation.\n",
      "INFO:src.rope:cos_cache and sin_cache have been previously created, skipping creation.\n",
      "INFO:src.rope:cos_cache and sin_cache have been previously created, skipping creation.\n",
      "INFO:src.rope:cos_cache and sin_cache have been previously created, skipping creation.\n",
      "INFO:src.rope:cos_cache and sin_cache have been previously created, skipping creation.\n",
      "INFO:src.rope:cos_cache and sin_cache have been previously created, skipping creation.\n",
      "INFO:src.rope:cos_cache and sin_cache have been previously created, skipping creation.\n",
      "INFO:src.rope:cos_cache and sin_cache have been previously created, skipping creation.\n",
      "INFO:src.rope:cos_cache and sin_cache have been previously created, skipping creation.\n",
      "INFO:src.rope:cos_cache and sin_cache have been previously created, skipping creation.\n",
      "INFO:src.rope:cos_cache and sin_cache have been previously created, skipping creation.\n",
      "INFO:src.rope:cos_cache and sin_cache have been previously created, skipping creation.\n",
      "INFO:src.rope:cos_cache and sin_cache have been previously created, skipping creation.\n",
      "INFO:src.rope:cos_cache and sin_cache have been previously created, skipping creation.\n",
      "INFO:src.rope:cos_cache and sin_cache have been previously created, skipping creation.\n",
      "/home/MyLLM/src/model_utils/checkpoint_utils.py:42: FutureWarning: You are using `torch.load` with `weights_only=False` (the current default value), which uses the default pickle module implicitly. It is possible to construct malicious pickle data which will execute arbitrary code during unpickling (See https://github.com/pytorch/pytorch/blob/main/SECURITY.md#untrusted-models for more details). In a future release, the default value for `weights_only` will be flipped to `True`. This limits the functions that could be executed during unpickling. Arbitrary objects will no longer be allowed to be loaded via this mode unless they are explicitly allowlisted by the user via `torch.serialization.add_safe_globals`. We recommend you start setting `weights_only=True` for any use case where you don't have full control of the loaded file. Please open an issue on GitHub for any issues related to this experimental feature.\n",
      "  checkpoint = torch.load(filepath, map_location=\"cuda\" if torch.cuda.is_available() else \"cpu\")\n"
     ]
    }
   ],
   "source": [
    "# Download model from hugging face and load into memory\n",
    "ddp = DDPHandler()\n",
    "model = get_hf_model(ddp)"
   ]
  },
  {
   "cell_type": "code",
   "execution_count": 6,
   "metadata": {},
   "outputs": [],
   "source": [
    "tParams = TParams(**{f.name: None for f in fields(TParams)})\n",
    "tParams.sampling_top_k = 50"
   ]
  },
  {
   "cell_type": "code",
   "execution_count": null,
   "metadata": {},
   "outputs": [
    {
     "name": "stderr",
     "output_type": "stream",
     "text": [
      "INFO:src.model_assessment.sampling:Let's talk about Rome, Rome is considered to be one of the most significant cities of the world. Its history is one of the most significant and the most celebrated of all cities.\n",
      "Ancient Rome had one of the most beautiful and important\n",
      "INFO:src.model_assessment.sampling:Let's talk about Rome, Rome is very famous for our ancient civilization. We'll be talking about how Rome really was established. Rome is the greatest city on the planet, Rome has a history that spans hundreds, even thousands of years,\n"
     ]
    }
   ],
   "source": [
    "tParams.sampling_tokens = 40\n",
    "tParams.sampling_batch = 2\n",
    "\n",
    "hf_sample(model, ddp, tParams, \"Let's talk about Rome, Rome is\")"
   ]
  },
  {
   "cell_type": "code",
   "execution_count": 27,
   "metadata": {},
   "outputs": [
    {
     "name": "stderr",
     "output_type": "stream",
     "text": [
      "INFO:src.model_assessment.sampling:The Industrial Revolution marked a turning point in human history, fundamentally altering the way goods were produced and societies were organized. Emerging in the late 18th century, it was driven by technological advancements such as the steam engine and mechanized textile production. However, the rapid pace of industrialization also led to significant challenges, including urban overcrowding, labor exploitation, and environmental degradation. To address these challenges, reformers and policymakers introduced measures such as free public education, industrial tariffs, and the abolition of slavery. As the century progressed, the rapid industrialization of the world marked a historic turning point in human history.\n",
      "Revolution, Reformism, and the Industrial Revolution\n",
      "Many historians believe that the industrial revolution was largely the result of changes in the political, economic, and social conditions of the European continent. These changes involved increased industrialization and the rise of capitalism in the West.\n",
      "The Industrial Revolution: Changes in political and economic conditions\n",
      "The political and economic conditions of Europe during the 18th and 19th centuries were a significant factor in shaping the world’s cultural patterns and practices. Economic globalization in the late 18th century and early 19th century led to a significant increase in trade and investment. This was primarily influenced by the increase in population and population growth, which led to an increase in urbanization and a demand for more wealth. This, in turn, led to increased trade and investment in both the West and the Orient. Additionally, the Industrial Revolution provided increased opportunities for entrepreneurship, which then paved the way for industrialization in the rest of the world.\n",
      "The History of Reformism and the Industrial Revolution\n",
      "The development of reformism in the late 17th century and early 18th century, known as “reformism”, is often considered a key factor in the rapid industrialization of the 19th century. Reformers and socialists contributed to the growth of reformist movements in the 18th century, such as the French Revolution, and the German Empire. Reformists believed in the importance of political reform and the right of individuals to speak freely and establish their own political institutions. As a result, they advocated for the establishment of a constitutional monarchy with the rights of citizens.\n",
      "The History of the Industrial Revolution: Reformism and the Industrial Revolution\n",
      "The Industrial Revolution began as a response to the political, economic, and social chaos that plagued the Western world in the 17th century. The Industrial Revolution brought immense economic and social changes, which included the rise of factories and the development of mining and maritime industries. Following the collapse of the English monarchy with the Restoration of the English throne, the English Republic sought to improve social conditions, education, and the government’s power. Despite these efforts, the Industrial Revolution also brought numerous challenges, including a lack of land and machinery, the disruption of monastic orders and monasteries, and the exploitation of the public and private sectors. Additionally, the Great Fire\n"
     ]
    }
   ],
   "source": [
    "tParams.sampling_tokens = 500\n",
    "tParams.sampling_batch = 1\n",
    "\n",
    "hf_sample(model, ddp, tParams, \"The Industrial Revolution marked a turning point in human history, fundamentally altering the way goods were produced and societies were organized. Emerging in the late 18th century, it was driven by technological advancements such as the steam engine and mechanized textile production. However, the rapid pace of industrialization also led to significant challenges, including urban overcrowding, labor exploitation, and environmental degradation. To address these challenges, reformers and policymakers introduced measures such as\")"
   ]
  },
  {
   "cell_type": "code",
   "execution_count": 7,
   "metadata": {},
   "outputs": [
    {
     "name": "stderr",
     "output_type": "stream",
     "text": [
      "INFO:src.model_assessment.sampling:Climate change poses one of the most significant challenges of the 21st century, with wide-ranging impacts on ecosystems, economies, and communities worldwide. Driven primarily by the increase in greenhouse gas emissions from human activities, it has led to rising global temperatures, melting polar ice caps, and more frequent extreme weather events. Addressing this crisis requires a multifaceted approach, including international cooperation, innovative technological solutions, and behavioral changes. For instance, renewable energy sources such as solar and wind power offer a promising alternative to fossil fuels, but they need to be scaled up significantly to meet the needs of a growing global population. Likewise, the need for equitable access to affordable housing, affordable food, and clean water must be addressed. These challenges present unique challenges for each country, and their solutions must also take into account the unique cultural, social, and environmental characteristics of each country and culture.\n",
      "Moreover, the response to climate change in our society depends on a complex network of interconnected factors, including technological progress, political will among nations, and the contributions of individuals and communities. To address these challenges, we need to consider the synergies that exist between climate change mitigation efforts, innovation, technology, culture, and societal values. By working collectively, we can create a society that meets the aspirations of a growing global population while simultaneously safeguarding vulnerable ecosystems, social cohesion, and cultural diversity.<|endoftext|>One-Third of American Kids and Strenuous Activities Are Outdoors In Their Homes, Report Shows\n",
      "WASHINGTON (AP) – The recent spike in American children’s outdoor play – one of the nation’s top environmental stewards – also found families sitting in chairs and unstructured backyard play, said a new report published Monday by the Environmental Working Group (EWG).\n",
      "“Children and their parents play the equivalent of one-third of the American adult workforce,” said Michael C. Perry, senior author of the study, which is based on the largest-ever survey of outdoor play in the U.S.\n",
      "“Their participation is inextricably linked with outdoor activities, but there’s still a lot of variability within children and families,” said Perry, an environmental psychologist at the University of Houston’s College of Education. “In their own homes, parents may have some of the most creative and engaged outdoor experiences with little physical activity or technology. But they may be on a mission to make sure every American has access to healthy outdoor environments, not just for school trips, but for all children.”\n",
      "The survey, conducted for TIME magazine, also found that nearly half of all kids surveyed are outdoors, but at a price.\n",
      "On average, children spent on average 24 hours a week in unstructured, untended, outdoor play – which is defined as “doing activities outdoors, not indoors, without any formal education or training –” compared with 5.4 hours a week in unstructured, unplanned outdoor time.\n",
      "Among children ages\n"
     ]
    }
   ],
   "source": [
    "tParams.sampling_tokens = 500\n",
    "tParams.sampling_batch = 1\n",
    "\n",
    "hf_sample(model, ddp, tParams, \"Climate change poses one of the most significant challenges of the 21st century, with wide-ranging impacts on ecosystems, economies, and communities worldwide. Driven primarily by the increase in greenhouse gas emissions from human activities, it has led to rising global temperatures, melting polar ice caps, and more frequent extreme weather events. Addressing this crisis requires a multifaceted approach, including international cooperation, innovative technological solutions, and behavioral changes. For instance, renewable energy sources such as solar and wind power offer a promising alternative to fossil fuels, but\")"
   ]
  },
  {
   "cell_type": "code",
   "execution_count": null,
   "metadata": {},
   "outputs": [],
   "source": []
  }
 ],
 "metadata": {
  "kernelspec": {
   "display_name": "my_llm",
   "language": "python",
   "name": "python3"
  },
  "language_info": {
   "codemirror_mode": {
    "name": "ipython",
    "version": 3
   },
   "file_extension": ".py",
   "mimetype": "text/x-python",
   "name": "python",
   "nbconvert_exporter": "python",
   "pygments_lexer": "ipython3",
   "version": "3.9.20"
  }
 },
 "nbformat": 4,
 "nbformat_minor": 4
}
